{
 "cells": [
  {
   "cell_type": "code",
   "execution_count": 1,
   "id": "ca7ca37f",
   "metadata": {},
   "outputs": [
    {
     "name": "stdout",
     "output_type": "stream",
     "text": [
      "34\n",
      "Enter the Number: 45\n",
      "COLDI\n",
      "Enter the Number: 55\n",
      "COLDER\n",
      "Enter the Number: 35\n",
      "WARMER\n",
      "Enter the Number: 25\n",
      "COLDER\n",
      "Enter the Number: 3\n",
      "COLDER\n",
      "Enter the Number: 30\n",
      "WARMER\n",
      "Enter the Number: 34\n",
      "You guessed correctly and it took 7 guesses\n"
     ]
    }
   ],
   "source": [
    "import random\n",
    "N = random.randint(1,100)\n",
    "print(N)\n",
    "A = {}\n",
    "i = 0\n",
    "A[i] = int(input(\"Enter the Number: \"))\n",
    "if(A[i] >= N-10 and A[i] <= N+10):\n",
    "    print(\"WARMI\")\n",
    "else:\n",
    "    print(\"COLDI\")\n",
    "while(A[i] != N):\n",
    "    if(A[i] < N):\n",
    "        D = (N - A[i])\n",
    "    else:\n",
    "        D = (A[i] - N)\n",
    "    A[i + 1] = int(input(\"Enter the Number: \"))\n",
    "    if((A[i] < A[i + 1] < (N+D) or (N-D) < A[i + 1] < A[i]) and A[i + 1] != N):\n",
    "        print(\"WARMER\")\n",
    "    elif(A[i + 1] != N):\n",
    "        print(\"COLDER\")\n",
    "    i += 1\n",
    "print(\"You guessed correctly and it took {} guesses\".format(len(A)))"
   ]
  },
  {
   "cell_type": "code",
   "execution_count": null,
   "id": "9891d8b1",
   "metadata": {},
   "outputs": [],
   "source": []
  }
 ],
 "metadata": {
  "kernelspec": {
   "display_name": "Python 3",
   "language": "python",
   "name": "python3"
  },
  "language_info": {
   "codemirror_mode": {
    "name": "ipython",
    "version": 3
   },
   "file_extension": ".py",
   "mimetype": "text/x-python",
   "name": "python",
   "nbconvert_exporter": "python",
   "pygments_lexer": "ipython3",
   "version": "3.9.5"
  }
 },
 "nbformat": 4,
 "nbformat_minor": 5
}
